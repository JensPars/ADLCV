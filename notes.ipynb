{
 "cells": [
  {
   "cell_type": "code",
   "execution_count": 1,
   "metadata": {},
   "outputs": [
    {
     "name": "stderr",
     "output_type": "stream",
     "text": [
      "/Users/erikriise/anaconda3/envs/DiffAug/lib/python3.9/site-packages/tqdm/auto.py:21: TqdmWarning: IProgress not found. Please update jupyter and ipywidgets. See https://ipywidgets.readthedocs.io/en/stable/user_install.html\n",
      "  from .autonotebook import tqdm as notebook_tqdm\n"
     ]
    }
   ],
   "source": [
    "import os\n",
    "import torch\n",
    "import cv2\n",
    "from torchvision.datasets import CocoDetection\n",
    "from simple_copy_paste.simple_copy_paste import copy_paste_class\n",
    "from torchvision import tv_tensors\n",
    "import numpy as np\n",
    "from torchvision.io import read_image\n",
    "\n",
    "from torchvision.transforms import functional as F\n",
    "import torchvision.transforms as T\n",
    "\n",
    "\n",
    "from torchvision.transforms import InterpolationMode\n",
    "\n",
    "min_keypoints_per_image = 10\n",
    "\n",
    "\n",
    "def _count_visible_keypoints(anno):\n",
    "    return sum(sum(1 for v in ann[\"keypoints\"][2::3] if v > 0) for ann in anno)\n",
    "\n",
    "\n",
    "def _has_only_empty_bbox(anno):\n",
    "    return all(any(o <= 1 for o in obj[\"bbox\"][2:]) for obj in anno)\n",
    "\n",
    "\n",
    "def has_valid_annotation(anno):\n",
    "    # if it's empty, there is no annotation\n",
    "    if len(anno) == 0:\n",
    "        return False\n",
    "    # if all boxes have close to zero area, there is no annotation\n",
    "    if _has_only_empty_bbox(anno):\n",
    "        return False\n",
    "    # keypoints task have a slight different critera for considering\n",
    "    # if an annotation is valid\n",
    "    if \"keypoints\" not in anno[0]:\n",
    "        return True\n",
    "    # for keypoint detection tasks, only consider valid images those\n",
    "    # containing at least min_keypoints_per_image\n",
    "    if _count_visible_keypoints(anno) >= min_keypoints_per_image:\n",
    "        return True\n",
    "\n",
    "    return False\n",
    "\n",
    "\n",
    "@copy_paste_class\n",
    "class CocoDetectionCP(CocoDetection):\n",
    "    def __init__(self, root, annFile, transforms):\n",
    "        super(CocoDetectionCP, self).__init__(root, annFile, None, None, transforms)\n",
    "\n",
    "        # filter images without detection annotations\n",
    "        ids = []\n",
    "        for img_id in self.ids:\n",
    "            ann_ids = self.coco.getAnnIds(imgIds=img_id, iscrowd=None)\n",
    "            anno = self.coco.loadAnns(ann_ids)\n",
    "            if has_valid_annotation(anno):\n",
    "                ids.append(img_id)\n",
    "        self.ids = ids\n",
    "\n",
    "    def collate_fn(_, batch):\n",
    "        return tuple(zip(*batch))\n",
    "\n",
    "    def load_example(self, index):\n",
    "        img_id = self.ids[index]\n",
    "        ann_ids = self.coco.getAnnIds(imgIds=img_id)\n",
    "        target = self.coco.loadAnns(ann_ids)\n",
    "\n",
    "        path = self.coco.loadImgs(img_id)[0][\"file_name\"]\n",
    "        image = cv2.imread(os.path.join(self.root, path))\n",
    "        image = cv2.cvtColor(image, cv2.COLOR_BGR2RGB)\n",
    "\n",
    "        # convert all of the target segmentations to masks\n",
    "        # bboxes are expected to be (y1, x1, y2, x2, category_id)\n",
    "        masks = []\n",
    "        bboxes = []\n",
    "        for ix, obj in enumerate(target):\n",
    "            masks.append(self.coco.annToMask(obj))\n",
    "            bboxes.append(obj[\"bbox\"] + [obj[\"category_id\"]] + [ix])\n",
    "\n",
    "        # pack outputs into a dict\n",
    "        output = {\"image\": image, \"masks\": masks, \"bboxes\": bboxes}\n",
    "\n",
    "        return self.transforms(**output)\n",
    "\n",
    "\n",
    "class CustomCocoDetection(CocoDetection):\n",
    "    def __init__(self, img_folder, ann_file, transforms=None):\n",
    "        super().__init__(img_folder, ann_file, transforms)\n",
    "        self.img_folder = img_folder\n",
    "\n",
    "    @staticmethod\n",
    "    def collate_fn(batch):\n",
    "        images = list(image for image, _ in batch)\n",
    "        targets = list(target for _, target in batch)\n",
    "        return images, targets\n",
    "\n",
    "    def __getitem__(self, index):\n",
    "        image_id = self.ids[index]\n",
    "        ann_ids = self.coco.getAnnIds(imgIds=image_id)\n",
    "        target = self.coco.loadAnns(ann_ids)\n",
    "\n",
    "        # Process target to match your desired format\n",
    "        output_target = {}\n",
    "        output_target[\"boxes\"] = []\n",
    "        output_target[\"labels\"] = []\n",
    "        output_target[\"masks\"] = []\n",
    "\n",
    "        for obj in target:\n",
    "            # Convert boxes to x1, y1, x2, y2\n",
    "            x, y, w, h = obj[\"bbox\"]\n",
    "            x2 = x + w\n",
    "            y2 = y + h\n",
    "            output_target[\"boxes\"].append(torch.tensor([x, y, x2, y2]).float())\n",
    "\n",
    "            output_target[\"labels\"].append(obj[\"category_id\"])\n",
    "\n",
    "            # Assuming masks are RLE encoded\n",
    "            mask = self.coco.annToMask(obj)\n",
    "            output_target[\"masks\"].append(mask)\n",
    "\n",
    "        path = self.coco.loadImgs(image_id)[0][\"file_name\"]\n",
    "        image = read_image(os.path.join(self.img_folder, path))\n",
    "        image = tv_tensors.Image(image)\n",
    "        # Convert to tensors\n",
    "        output_target[\"boxes\"] = torch.tensor(\n",
    "            np.array(output_target[\"boxes\"])\n",
    "        ).float()  # Ensure float for bounding boxes\n",
    "        output_target[\"labels\"] = torch.tensor(output_target[\"labels\"]).long()\n",
    "        output_target[\"masks\"] = torch.tensor(np.array(output_target[\"masks\"]))\n",
    "        target = {}\n",
    "        target[\"boxes\"] = tv_tensors.BoundingBoxes(\n",
    "            output_target[\"boxes\"], format=\"XYXY\", canvas_size=F.get_size(image)\n",
    "        )\n",
    "        target[\"masks\"] = tv_tensors.Mask(output_target[\"masks\"])\n",
    "        target[\"labels\"] = output_target[\"labels\"]\n",
    "\n",
    "        if self.transforms is not None:\n",
    "            image, target = self.transforms(image, target)\n",
    "\n",
    "        return image, target"
   ]
  },
  {
   "cell_type": "code",
   "execution_count": 51,
   "metadata": {},
   "outputs": [],
   "source": [
    "def get_transform(image=True):\n",
    "    transforms = []\n",
    "    transforms.append(T.ToTensor())\n",
    "    if image:\n",
    "        transforms.append(T.Resize((256, 256), InterpolationMode.BILINEAR))\n",
    "    else:\n",
    "        transforms.append(T.Resize((256, 256), InterpolationMode.NEAREST))\n",
    "    return T.Compose(transforms)"
   ]
  },
  {
   "cell_type": "code",
   "execution_count": 59,
   "metadata": {},
   "outputs": [],
   "source": [
    "from PIL import Image\n",
    "\n",
    "\n",
    "class CustomCocoSegmentation(CocoDetection):\n",
    "    def __init__(self, img_folder, ann_file, transforms_im=None, transforms_mask=None):\n",
    "        super().__init__(img_folder, ann_file, transforms_im, transforms_mask)\n",
    "        self.img_folder = img_folder\n",
    "        self.transforms_im = transforms_im\n",
    "        self.transforms_mask = transforms_mask\n",
    "\n",
    "    def __getitem__(self, index):\n",
    "        image_id = self.ids[index]\n",
    "        ann_ids = self.coco.getAnnIds(imgIds=image_id)\n",
    "\n",
    "        # Load annotation details\n",
    "        annotations = [self.coco.loadAnns([ann_id])[0] for ann_id in ann_ids]\n",
    "\n",
    "        path = self.coco.loadImgs(image_id)[0][\"file_name\"]\n",
    "        image = Image.open(os.path.join(self.img_folder, path)).convert(\"RGB\")\n",
    "\n",
    "        mask = np.zeros((image.size[1], image.size[0]))\n",
    "        for obj in annotations:\n",
    "            segmentation_mask = self.coco.annToMask(obj)\n",
    "            mask[segmentation_mask == 1] = obj[\"category_id\"]\n",
    "\n",
    "        if self.transforms is not None:\n",
    "            image_t = self.transforms_im(image)\n",
    "            target = self.transforms_mask(mask)\n",
    "\n",
    "        return image_t.squeeze(), target.squeeze()"
   ]
  },
  {
   "cell_type": "code",
   "execution_count": 60,
   "metadata": {},
   "outputs": [
    {
     "name": "stdout",
     "output_type": "stream",
     "text": [
      "loading annotations into memory...\n",
      "Done (t=0.00s)\n",
      "creating index...\n",
      "index created!\n"
     ]
    }
   ],
   "source": [
    "data = CustomCocoSegmentation(\n",
    "    img_folder=\"data/val2017\",\n",
    "    ann_file=\"bear_subset_annotations_val.json\",\n",
    "    transforms_im=get_transform(image=True),\n",
    "    transforms_mask=get_transform(image=False),\n",
    ")"
   ]
  },
  {
   "cell_type": "code",
   "execution_count": 58,
   "metadata": {},
   "outputs": [
    {
     "ename": "TypeError",
     "evalue": "__call__() takes 2 positional arguments but 3 were given",
     "output_type": "error",
     "traceback": [
      "\u001b[0;31m---------------------------------------------------------------------------\u001b[0m",
      "\u001b[0;31mTypeError\u001b[0m                                 Traceback (most recent call last)",
      "Cell \u001b[0;32mIn[58], line 23\u001b[0m\n\u001b[1;32m     18\u001b[0m         ax\u001b[38;5;241m.\u001b[39mimshow(mask, alpha\u001b[38;5;241m=\u001b[39m\u001b[38;5;241m0.5\u001b[39m, cmap\u001b[38;5;241m=\u001b[39m\u001b[38;5;124m\"\u001b[39m\u001b[38;5;124mviridis\u001b[39m\u001b[38;5;124m\"\u001b[39m)\n\u001b[1;32m     20\u001b[0m     plt\u001b[38;5;241m.\u001b[39mshow()\n\u001b[0;32m---> 23\u001b[0m plot_image(\u001b[38;5;241m*\u001b[39m\u001b[43mdata\u001b[49m\u001b[43m[\u001b[49m\u001b[38;5;241;43m4\u001b[39;49m\u001b[43m]\u001b[49m)\n",
      "Cell \u001b[0;32mIn[55], line 28\u001b[0m, in \u001b[0;36mCustomCocoSegmentation.__getitem__\u001b[0;34m(self, index)\u001b[0m\n\u001b[1;32m     26\u001b[0m \u001b[38;5;28;01mif\u001b[39;00m \u001b[38;5;28mself\u001b[39m\u001b[38;5;241m.\u001b[39mtransforms \u001b[38;5;129;01mis\u001b[39;00m \u001b[38;5;129;01mnot\u001b[39;00m \u001b[38;5;28;01mNone\u001b[39;00m:\n\u001b[1;32m     27\u001b[0m     image_t \u001b[38;5;241m=\u001b[39m \u001b[38;5;28mself\u001b[39m\u001b[38;5;241m.\u001b[39mtransforms_im(image)\n\u001b[0;32m---> 28\u001b[0m     target, _ \u001b[38;5;241m=\u001b[39m \u001b[38;5;28;43mself\u001b[39;49m\u001b[38;5;241;43m.\u001b[39;49m\u001b[43mtransforms_mask\u001b[49m\u001b[43m(\u001b[49m\u001b[43mmask\u001b[49m\u001b[43m,\u001b[49m\u001b[43m \u001b[49m\u001b[43mmask\u001b[49m\u001b[43m)\u001b[49m\n\u001b[1;32m     30\u001b[0m \u001b[38;5;28;01mreturn\u001b[39;00m image_t\u001b[38;5;241m.\u001b[39msqueeze(), target\u001b[38;5;241m.\u001b[39msqueeze()\n",
      "\u001b[0;31mTypeError\u001b[0m: __call__() takes 2 positional arguments but 3 were given"
     ]
    }
   ],
   "source": [
    "from matplotlib import pyplot as plt\n",
    "\n",
    "\n",
    "# plot with bboxes and masks\n",
    "def plot_image(image, target):\n",
    "    fig, ax = plt.subplots(1, 1, figsize=(10, 10))\n",
    "    ax.imshow(image.permute(1, 2, 0))\n",
    "\n",
    "    for box, mask in zip(target[\"boxes\"], target[\"masks\"]):\n",
    "        x, y, x2, y2 = box\n",
    "        rect = plt.Rectangle(\n",
    "            (x, y), x2 - x, y2 - y, fill=False, edgecolor=\"red\", linewidth=2\n",
    "        )\n",
    "        ax.add_patch(rect)\n",
    "\n",
    "        mask = mask.numpy()\n",
    "        mask = np.ma.masked_where(mask == 0, mask)\n",
    "        ax.imshow(mask, alpha=0.5, cmap=\"viridis\")\n",
    "\n",
    "    plt.show()\n",
    "\n",
    "\n",
    "plot_image(*data[4])"
   ]
  },
  {
   "cell_type": "code",
   "execution_count": 45,
   "metadata": {},
   "outputs": [],
   "source": [
    "def get_transform():\n",
    "    transforms = []\n",
    "    transforms.append(T.Resize((256, 256)), interpolation=)\n",
    "    return T.Compose(transforms)"
   ]
  },
  {
   "cell_type": "code",
   "execution_count": 70,
   "metadata": {},
   "outputs": [
    {
     "name": "stdout",
     "output_type": "stream",
     "text": [
      "loading annotations into memory...\n",
      "Done (t=0.00s)\n",
      "creating index...\n",
      "index created!\n"
     ]
    }
   ],
   "source": [
    "from torchvision.datasets import CocoDetection, wrap_dataset_for_transforms_v2\n",
    "\n",
    "dataset = CustomCocoSegmentation(\n",
    "    img_folder=\"data/val2017\",\n",
    "    ann_file=\"bear_subset_annotations_val.json\",\n",
    "    transforms=get_transform(),\n",
    ")\n",
    "\n",
    "# dataset = CocoDetection(\n",
    "#     root=\"data/val2017\",\n",
    "#     annFile=\"bear_subset_annotations_val.json\",\n",
    "#     transforms=get_transform(),\n",
    "# )\n",
    "dataset = wrap_dataset_for_transforms_v2(dataset)"
   ]
  },
  {
   "cell_type": "code",
   "execution_count": 72,
   "metadata": {},
   "outputs": [
    {
     "ename": "AttributeError",
     "evalue": "'str' object has no attribute 'items'",
     "output_type": "error",
     "traceback": [
      "\u001b[0;31m---------------------------------------------------------------------------\u001b[0m",
      "\u001b[0;31mAttributeError\u001b[0m                            Traceback (most recent call last)",
      "Cell \u001b[0;32mIn[72], line 1\u001b[0m\n\u001b[0;32m----> 1\u001b[0m \u001b[43mdataset\u001b[49m\u001b[43m[\u001b[49m\u001b[38;5;241;43m0\u001b[39;49m\u001b[43m]\u001b[49m\n",
      "File \u001b[0;32m~/anaconda3/envs/DiffAug/lib/python3.9/site-packages/torchvision/tv_tensors/_dataset_wrapper.py:188\u001b[0m, in \u001b[0;36mVisionDatasetTVTensorWrapper.__getitem__\u001b[0;34m(self, idx)\u001b[0m\n\u001b[1;32m    183\u001b[0m \u001b[38;5;28;01mdef\u001b[39;00m \u001b[38;5;21m__getitem__\u001b[39m(\u001b[38;5;28mself\u001b[39m, idx):\n\u001b[1;32m    184\u001b[0m     \u001b[38;5;66;03m# This gets us the raw sample since we disabled the transforms for the underlying dataset in the constructor\u001b[39;00m\n\u001b[1;32m    185\u001b[0m     \u001b[38;5;66;03m# of this class\u001b[39;00m\n\u001b[1;32m    186\u001b[0m     sample \u001b[38;5;241m=\u001b[39m \u001b[38;5;28mself\u001b[39m\u001b[38;5;241m.\u001b[39m_dataset[idx]\n\u001b[0;32m--> 188\u001b[0m     sample \u001b[38;5;241m=\u001b[39m \u001b[38;5;28;43mself\u001b[39;49m\u001b[38;5;241;43m.\u001b[39;49m\u001b[43m_wrapper\u001b[49m\u001b[43m(\u001b[49m\u001b[43midx\u001b[49m\u001b[43m,\u001b[49m\u001b[43m \u001b[49m\u001b[43msample\u001b[49m\u001b[43m)\u001b[49m\n\u001b[1;32m    190\u001b[0m     \u001b[38;5;66;03m# Regardless of whether the user has supplied the transforms individually (`transform` and `target_transform`)\u001b[39;00m\n\u001b[1;32m    191\u001b[0m     \u001b[38;5;66;03m# or joint (`transforms`), we can access the full functionality through `transforms`\u001b[39;00m\n\u001b[1;32m    192\u001b[0m     \u001b[38;5;28;01mif\u001b[39;00m \u001b[38;5;28mself\u001b[39m\u001b[38;5;241m.\u001b[39mtransforms \u001b[38;5;129;01mis\u001b[39;00m \u001b[38;5;129;01mnot\u001b[39;00m \u001b[38;5;28;01mNone\u001b[39;00m:\n",
      "File \u001b[0;32m~/anaconda3/envs/DiffAug/lib/python3.9/site-packages/torchvision/tv_tensors/_dataset_wrapper.py:379\u001b[0m, in \u001b[0;36mcoco_dectection_wrapper_factory.<locals>.wrapper\u001b[0;34m(idx, sample)\u001b[0m\n\u001b[1;32m    375\u001b[0m     \u001b[38;5;28;01mreturn\u001b[39;00m image, \u001b[38;5;28mdict\u001b[39m(image_id\u001b[38;5;241m=\u001b[39mimage_id)\n\u001b[1;32m    377\u001b[0m canvas_size \u001b[38;5;241m=\u001b[39m \u001b[38;5;28mtuple\u001b[39m(F\u001b[38;5;241m.\u001b[39mget_size(image))\n\u001b[0;32m--> 379\u001b[0m batched_target \u001b[38;5;241m=\u001b[39m \u001b[43mlist_of_dicts_to_dict_of_lists\u001b[49m\u001b[43m(\u001b[49m\u001b[43mtarget\u001b[49m\u001b[43m)\u001b[49m\n\u001b[1;32m    380\u001b[0m target \u001b[38;5;241m=\u001b[39m {}\n\u001b[1;32m    382\u001b[0m \u001b[38;5;28;01mif\u001b[39;00m \u001b[38;5;124m\"\u001b[39m\u001b[38;5;124mimage_id\u001b[39m\u001b[38;5;124m\"\u001b[39m \u001b[38;5;129;01min\u001b[39;00m target_keys:\n",
      "File \u001b[0;32m~/anaconda3/envs/DiffAug/lib/python3.9/site-packages/torchvision/tv_tensors/_dataset_wrapper.py:254\u001b[0m, in \u001b[0;36mlist_of_dicts_to_dict_of_lists\u001b[0;34m(list_of_dicts)\u001b[0m\n\u001b[1;32m    252\u001b[0m dict_of_lists \u001b[38;5;241m=\u001b[39m defaultdict(\u001b[38;5;28mlist\u001b[39m)\n\u001b[1;32m    253\u001b[0m \u001b[38;5;28;01mfor\u001b[39;00m dct \u001b[38;5;129;01min\u001b[39;00m list_of_dicts:\n\u001b[0;32m--> 254\u001b[0m     \u001b[38;5;28;01mfor\u001b[39;00m key, value \u001b[38;5;129;01min\u001b[39;00m \u001b[43mdct\u001b[49m\u001b[38;5;241;43m.\u001b[39;49m\u001b[43mitems\u001b[49m():\n\u001b[1;32m    255\u001b[0m         dict_of_lists[key]\u001b[38;5;241m.\u001b[39mappend(value)\n\u001b[1;32m    256\u001b[0m \u001b[38;5;28;01mreturn\u001b[39;00m \u001b[38;5;28mdict\u001b[39m(dict_of_lists)\n",
      "\u001b[0;31mAttributeError\u001b[0m: 'str' object has no attribute 'items'"
     ]
    }
   ],
   "source": [
    "dataset[0]"
   ]
  },
  {
   "cell_type": "code",
   "execution_count": null,
   "metadata": {},
   "outputs": [],
   "source": []
  },
  {
   "cell_type": "code",
   "execution_count": null,
   "metadata": {},
   "outputs": [],
   "source": []
  }
 ],
 "metadata": {
  "kernelspec": {
   "display_name": "DiffAug",
   "language": "python",
   "name": "python3"
  },
  "language_info": {
   "codemirror_mode": {
    "name": "ipython",
    "version": 3
   },
   "file_extension": ".py",
   "mimetype": "text/x-python",
   "name": "python",
   "nbconvert_exporter": "python",
   "pygments_lexer": "ipython3",
   "version": "3.9.19"
  }
 },
 "nbformat": 4,
 "nbformat_minor": 2
}
